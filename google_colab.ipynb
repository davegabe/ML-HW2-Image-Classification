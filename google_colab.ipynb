{
  "cells": [
    {
      "cell_type": "markdown",
      "source": [
        "# 1. Setup\n",
        "This section will create environment for python 3.10. After this you will need to go to *Edit>Notebook Settings*, select the Python3.10 runtime and save"
      ],
      "metadata": {
        "id": "_wMfFBnlndVK"
      }
    },
    {
      "cell_type": "code",
      "source": [
        "# Mount Google Drive and go to project folder\n",
        "from google.colab import drive\n",
        "import os\n",
        "drive.mount(\"/content/drive\")"
      ],
      "metadata": {
        "id": "HlBQAygc6dPU"
      },
      "execution_count": null,
      "outputs": []
    },
    {
      "cell_type": "code",
      "source": [
        "!wget https://github.com/korakot/kora/releases/download/v0.10/py310.sh\n",
        "!bash ./py310.sh -b -f -p /usr/local\n",
        "!python -m ipykernel install --name \"py310\" --user"
      ],
      "metadata": {
        "id": "drPL-e8eAG7M"
      },
      "execution_count": null,
      "outputs": []
    },
    {
      "cell_type": "code",
      "execution_count": null,
      "metadata": {
        "id": "H80WJWdPFLFL"
      },
      "outputs": [],
      "source": [
        "import sys\n",
        "print(\"version:\", sys.version)"
      ]
    },
    {
      "cell_type": "markdown",
      "source": [
        "# 2. Setup environment\n",
        "This section will define HOME and LOCALHOME variables, copy the RSA key to use the private repo on github, clone the repo and install all dependencies."
      ],
      "metadata": {
        "id": "AWiYnFKGnqDz"
      }
    },
    {
      "cell_type": "code",
      "source": [
        "# Setup path\n",
        "HOME=\"/content/drive/MyDrive/Colab Notebooks/ML-HW2\"\n",
        "LOCALHOME=\"/content\"\n",
        "!echo \"{HOME}\"\n",
        "\n",
        "# Copy existing RSA key\n",
        "%cd \"{HOME}\"\n",
        "!mkdir -p /root/.ssh\n",
        "!cp ./id_rsa.pub /root/.ssh/id_rsa.pub\n",
        "!cp ./id_rsa /root/.ssh/id_rsa\n",
        "! ssh-keyscan -t rsa github.com >> ~/.ssh/known_hosts\n",
        "! chmod go-rwx /root/.ssh/id_rsa"
      ],
      "metadata": {
        "id": "0Z1H1sXd6lVX"
      },
      "execution_count": null,
      "outputs": []
    },
    {
      "cell_type": "code",
      "source": [
        "!pip install tensorflow-gpu\n",
        "!pip install tensorflow\n",
        "!pip install matplotlib\n",
        "!pip install scipy"
      ],
      "metadata": {
        "id": "HcJJyGm0C9IE"
      },
      "execution_count": null,
      "outputs": []
    },
    {
      "cell_type": "code",
      "source": [
        "%cd \"{LOCALHOME}\"\n",
        "!git clone git@github.com:davegabe/HW2.git\n",
        "%cd HW2\n",
        "!git pull"
      ],
      "metadata": {
        "id": "eOKX8czT6nFV"
      },
      "execution_count": null,
      "outputs": []
    },
    {
      "cell_type": "markdown",
      "source": [
        "# 3. Copy dataset\n",
        "This section will copy and extract the dataset from the drive."
      ],
      "metadata": {
        "id": "xRW_gMCJnx-g"
      }
    },
    {
      "cell_type": "code",
      "source": [
        "#Copy dataset\n",
        "%cd \"{HOME}\"\n",
        "!cp ./dataset.zip \"{LOCALHOME}/HW2/dataset.zip\"\n",
        "%cd \"{LOCALHOME}/HW2\"\n",
        "!mkdir data\n",
        "!unzip dataset.zip -d data"
      ],
      "metadata": {
        "id": "OPlTOO_U9jRJ"
      },
      "execution_count": null,
      "outputs": []
    },
    {
      "cell_type": "markdown",
      "source": [
        "# 4. Train model and save it\n",
        "This section will train the model and save it in you drive HOME."
      ],
      "metadata": {
        "id": "OUkeKqDzn157"
      }
    },
    {
      "cell_type": "code",
      "source": [
        "!python --version\n",
        "# edit main.py to use GPU and use batch-size 256\n",
        "!python main.py"
      ],
      "metadata": {
        "id": "cZmhc1Lx6pZy"
      },
      "execution_count": null,
      "outputs": []
    },
    {
      "cell_type": "code",
      "source": [
        "%cd \"{LOCALHOME}/HW2\"\n",
        "!cp model/* \"{HOME}/model/\"\n",
        "!cp plot/* \"{HOME}/plot/\""
      ],
      "metadata": {
        "id": "GCt_sqbkIVsc"
      },
      "execution_count": null,
      "outputs": []
    }
  ],
  "metadata": {
    "colab": {
      "provenance": [],
      "private_outputs": true,
      "collapsed_sections": [
        "_wMfFBnlndVK",
        "AWiYnFKGnqDz",
        "xRW_gMCJnx-g",
        "OUkeKqDzn157"
      ]
    },
    "kernelspec": {
      "display_name": "Python 3.10",
      "name": "py310"
    },
    "gpuClass": "standard",
    "accelerator": "GPU"
  },
  "nbformat": 4,
  "nbformat_minor": 0
}